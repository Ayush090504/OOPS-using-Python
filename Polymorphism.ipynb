{
 "cells": [
  {
   "cell_type": "markdown",
   "id": "06ba9709",
   "metadata": {},
   "source": [
    "##Polymorphism \n",
    "is a core concept in the OOP. This allows the objects of different classes to be treated as the object of a common superclass."
   ]
  },
  {
   "cell_type": "code",
   "execution_count": 1,
   "id": "5ab57936",
   "metadata": {},
   "outputs": [],
   "source": [
    "##Method Overridding \n",
    "#It allows the child class to provide specific implementation of the methods already written in the parent class"
   ]
  },
  {
   "cell_type": "code",
   "execution_count": 4,
   "id": "7c1e4fe2",
   "metadata": {},
   "outputs": [
    {
     "data": {
      "text/plain": [
       "'Meaow!!'"
      ]
     },
     "execution_count": 4,
     "metadata": {},
     "output_type": "execute_result"
    }
   ],
   "source": [
    "#Base class\n",
    "class Animal:\n",
    "    def speak(self):\n",
    "        return \"Sound of the animal\"\n",
    "\n",
    "#Derived class\n",
    "class dog(Animal):\n",
    "    def speak(self):\n",
    "        return \"Woof!!\"\n",
    "\n",
    "#Derived Class\n",
    "class cat(Animal):\n",
    "    def speak(self):\n",
    "        return \"Meaow!!\"\n",
    "    \n",
    "\n",
    "\n",
    "cat=cat()\n",
    "cat.speak()"
   ]
  },
  {
   "cell_type": "code",
   "execution_count": 5,
   "id": "61cc0544",
   "metadata": {},
   "outputs": [
    {
     "data": {
      "text/plain": [
       "'Woof!!'"
      ]
     },
     "execution_count": 5,
     "metadata": {},
     "output_type": "execute_result"
    }
   ],
   "source": [
    "dog=dog()\n",
    "dog.speak()"
   ]
  },
  {
   "cell_type": "code",
   "execution_count": 9,
   "id": "ce5a5960",
   "metadata": {},
   "outputs": [
    {
     "name": "stdout",
     "output_type": "stream",
     "text": [
      "Woof!!\n"
     ]
    }
   ],
   "source": [
    "def Anima_speak(animal):\n",
    "    print(animal.speak())\n",
    "\n",
    "Anima_speak(dog)"
   ]
  },
  {
   "cell_type": "code",
   "execution_count": 10,
   "id": "35acbb63",
   "metadata": {},
   "outputs": [
    {
     "name": "stdout",
     "output_type": "stream",
     "text": [
      "The area is: 35\n",
      "The area is: 28.26\n"
     ]
    }
   ],
   "source": [
    "##Polymorphism using functions and methods\n",
    "##Base class\n",
    "class shape:\n",
    "    def Area(self):\n",
    "        return \"The Area of the figure\"\n",
    "\n",
    "#Derived class\n",
    "class rect(shape):\n",
    "    def __init__(self,width, height):\n",
    "        self.width=width\n",
    "        self.height=height\n",
    "    \n",
    "    def Area(self):\n",
    "        return self.height*self.width\n",
    "\n",
    "#Derived class 2\n",
    "\n",
    "class cric(shape):\n",
    "    def __init__(self,radius):\n",
    "        self.radius=radius\n",
    "    \n",
    "    def Area(self):\n",
    "        return 3.14*(self.radius**2)\n",
    "    \n",
    "def area(shape):\n",
    "    print(f\"The area is: {shape.Area()}\")\n",
    "\n",
    "rect1=rect(5,7)\n",
    "area(rect1)\n",
    "cric1=cric(3)\n",
    "area(cric1)\n"
   ]
  },
  {
   "cell_type": "markdown",
   "id": "772dffb6",
   "metadata": {},
   "source": [
    "# Polymorphism with abstract base class\n",
    "Abstract base class are used to define common method(function) for a group of related objects. They can force that the derived classes implement particular methods, promoting consistency across different implementations "
   ]
  },
  {
   "cell_type": "code",
   "execution_count": 11,
   "id": "e8420c1f",
   "metadata": {},
   "outputs": [
    {
     "name": "stdout",
     "output_type": "stream",
     "text": [
      "Engine status: Car engine started!!\n",
      "Engine status: Bike engine started!!\n"
     ]
    }
   ],
   "source": [
    "from abc import ABC, abstractmethod #calling abstract base class\n",
    "\n",
    "#Define the abstract class\n",
    "\n",
    "class Vehicle(ABC): #ABC is the base class which is completely empty\n",
    "    @abstractmethod\n",
    "    def start_engine(self):\n",
    "        pass  #Abstract method must be empty so Pass\n",
    "\n",
    "class Car(Vehicle):\n",
    "    def start_engine(self):\n",
    "        return \"Car engine started!!\"\n",
    "    \n",
    "class Bike(Vehicle):\n",
    "    def start_engine(self):\n",
    "        return \"Bike engine started!!\"\n",
    "    \n",
    "def start_vehicle(vehicle):\n",
    "    print(f\"Engine status: {vehicle.start_engine()}\")\n",
    "\n",
    "#Objects\n",
    "car=Car()\n",
    "bike=Bike()\n",
    "start_vehicle(car)\n",
    "start_vehicle(bike)"
   ]
  },
  {
   "cell_type": "code",
   "execution_count": null,
   "id": "ab66de4f",
   "metadata": {},
   "outputs": [],
   "source": []
  }
 ],
 "metadata": {
  "kernelspec": {
   "display_name": "Python 3",
   "language": "python",
   "name": "python3"
  },
  "language_info": {
   "codemirror_mode": {
    "name": "ipython",
    "version": 3
   },
   "file_extension": ".py",
   "mimetype": "text/x-python",
   "name": "python",
   "nbconvert_exporter": "python",
   "pygments_lexer": "ipython3",
   "version": "3.13.3"
  }
 },
 "nbformat": 4,
 "nbformat_minor": 5
}
