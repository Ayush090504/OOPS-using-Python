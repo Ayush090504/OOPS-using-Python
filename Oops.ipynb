{
 "cells": [
  {
   "cell_type": "markdown",
   "id": "e8d3b676",
   "metadata": {},
   "source": [
    "\n",
    "#**OBJECT ORIENTED PROGRAMMING**\n",
    "Object oriented programming is type of programming methodology which uses objects to design applications and computer programs.\n",
    "---\n",
    "\n"
   ]
  },
  {
   "cell_type": "code",
   "execution_count": 3,
   "id": "3a4cda9b",
   "metadata": {},
   "outputs": [
    {
     "name": "stdout",
     "output_type": "stream",
     "text": [
      "<class '__main__.Car'>\n",
      "<class '__main__.Car'>\n"
     ]
    }
   ],
   "source": [
    "class Car:\n",
    "  pass #Empty class\n",
    "audi=Car() #Objects\n",
    "bmw=Car() #Objects\n",
    "\n",
    "#Class is a real world object which contains blueprint. Using a class multiple objects can be created\n",
    "\n",
    "print(type(audi))\n",
    "print(type(bmw))"
   ]
  },
  {
   "cell_type": "code",
   "execution_count": 4,
   "id": "0e79d255",
   "metadata": {},
   "outputs": [
    {
     "name": "stdout",
     "output_type": "stream",
     "text": [
      "<__main__.Car object at 0x000001DBFFD84830>\n"
     ]
    }
   ],
   "source": [
    "print(audi)"
   ]
  },
  {
   "cell_type": "code",
   "execution_count": null,
   "id": "a03a8149",
   "metadata": {},
   "outputs": [
    {
     "name": "stdout",
     "output_type": "stream",
     "text": [
      "4\n"
     ]
    }
   ],
   "source": [
    "audi.windows=4\n",
    "print(audi.windows)\n",
    "#This way of defining the attribute is not correct"
   ]
  },
  {
   "cell_type": "code",
   "execution_count": 6,
   "id": "70cef7b4",
   "metadata": {},
   "outputs": [
    {
     "data": {
      "text/plain": [
       "['__class__',\n",
       " '__delattr__',\n",
       " '__dict__',\n",
       " '__dir__',\n",
       " '__doc__',\n",
       " '__eq__',\n",
       " '__firstlineno__',\n",
       " '__format__',\n",
       " '__ge__',\n",
       " '__getattribute__',\n",
       " '__getstate__',\n",
       " '__gt__',\n",
       " '__hash__',\n",
       " '__init__',\n",
       " '__init_subclass__',\n",
       " '__le__',\n",
       " '__lt__',\n",
       " '__module__',\n",
       " '__ne__',\n",
       " '__new__',\n",
       " '__reduce__',\n",
       " '__reduce_ex__',\n",
       " '__repr__',\n",
       " '__setattr__',\n",
       " '__sizeof__',\n",
       " '__static_attributes__',\n",
       " '__str__',\n",
       " '__subclasshook__',\n",
       " '__weakref__',\n",
       " 'windows']"
      ]
     },
     "execution_count": 6,
     "metadata": {},
     "output_type": "execute_result"
    }
   ],
   "source": [
    "dir(audi)\n",
    "#This shows various inbuilt methods in the object"
   ]
  },
  {
   "cell_type": "code",
   "execution_count": null,
   "id": "63fdff7b",
   "metadata": {},
   "outputs": [],
   "source": [
    "#Instance variable and Methods\n",
    "class Dog:\n",
    "    #Constructor\n",
    "    def __init__(self,name,age): #The name and age here are the parameters that we will be passing during the object creation\n",
    "        self.name=name #It is an instance variable created withing the class\n",
    "        self.age=age\n",
    "#The function is needed to be declared inorder to create a object of the class which can access the pre written attributes\n",
    "#Objects\n",
    "s=Dog('Shepherd',23)"
   ]
  },
  {
   "cell_type": "code",
   "execution_count": 11,
   "id": "bd7f4b71",
   "metadata": {},
   "outputs": [
    {
     "name": "stdout",
     "output_type": "stream",
     "text": [
      "Shepherd\n",
      "23\n"
     ]
    }
   ],
   "source": [
    "print(s.name)\n",
    "print(s.age)"
   ]
  },
  {
   "cell_type": "code",
   "execution_count": null,
   "id": "5a1fafc5",
   "metadata": {},
   "outputs": [],
   "source": [
    "#The key advantage of the constructor is that we can only create the already defined instance variable and to create more we need to add more to the constructor function"
   ]
  },
  {
   "cell_type": "code",
   "execution_count": null,
   "id": "832c404d",
   "metadata": {},
   "outputs": [
    {
     "name": "stdout",
     "output_type": "stream",
     "text": [
      "Jake says woof!!\n"
     ]
    }
   ],
   "source": [
    "##Define a class with instance method\n",
    "\n",
    "class Dog:\n",
    "    def __init__(self, name, age):\n",
    "        self.name=name\n",
    "        self.age=age\n",
    "    \n",
    "    def barking(self): #Self is used to access the variables declared in the constructor\n",
    "        print(f\"{self.name} says woof!!\")\n",
    "\n",
    "dog1=Dog(\"Jake\",3)\n",
    "\n",
    "dog1.barking() #As seen it calls the function in the class and access the parameters pre declared in the class"
   ]
  },
  {
   "cell_type": "code",
   "execution_count": 26,
   "id": "34cd233b",
   "metadata": {},
   "outputs": [],
   "source": [
    "##Modelling a Bank account\n",
    "class bank_account:\n",
    "    def __init__(self,name,age,balance=0):\n",
    "        self.name=name\n",
    "        self.age=age\n",
    "        self.balance=balance\n",
    "    \n",
    "    def deposit(self,amount):\n",
    "        self.balance+=amount\n",
    "        print(f\"The amount is deposited new balance: {self.balance}\")\n",
    "\n",
    "    def withdraw(self,amount):\n",
    "        if amount>self.balance:\n",
    "            print(\"Insufficient funds\")\n",
    "        else:\n",
    "            self.balance-=amount\n",
    "            print(f\"Remaining balance: {self.balance}\")\n",
    "    \n",
    "    def get_balance(self):\n",
    "        return self.balance\n",
    "\n",
    "user1=bank_account(\"Ayush\",21,15000)"
   ]
  },
  {
   "cell_type": "code",
   "execution_count": 27,
   "id": "bc9fe9c8",
   "metadata": {},
   "outputs": [
    {
     "name": "stdout",
     "output_type": "stream",
     "text": [
      "The amount is deposited new balance: 18000\n"
     ]
    }
   ],
   "source": [
    "user1.deposit(3000)"
   ]
  },
  {
   "cell_type": "code",
   "execution_count": 28,
   "id": "ef5900c8",
   "metadata": {},
   "outputs": [
    {
     "name": "stdout",
     "output_type": "stream",
     "text": [
      "Remaining balance: 3000\n"
     ]
    }
   ],
   "source": [
    "user1.withdraw(15000)"
   ]
  },
  {
   "cell_type": "code",
   "execution_count": 29,
   "id": "88eefa90",
   "metadata": {},
   "outputs": [],
   "source": [
    "user2=bank_account(\"manish\",12,84)"
   ]
  },
  {
   "cell_type": "code",
   "execution_count": 30,
   "id": "83dcd8fb",
   "metadata": {},
   "outputs": [
    {
     "name": "stdout",
     "output_type": "stream",
     "text": [
      "Insufficient funds\n"
     ]
    }
   ],
   "source": [
    "user2.withdraw(18000)"
   ]
  },
  {
   "cell_type": "code",
   "execution_count": 33,
   "id": "7ed546e2",
   "metadata": {},
   "outputs": [
    {
     "name": "stdout",
     "output_type": "stream",
     "text": [
      "84\n",
      "3000\n"
     ]
    }
   ],
   "source": [
    "print(user2.get_balance())\n",
    "print(user1.get_balance())"
   ]
  },
  {
   "cell_type": "code",
   "execution_count": null,
   "id": "bc38ae52",
   "metadata": {},
   "outputs": [],
   "source": []
  }
 ],
 "metadata": {
  "kernelspec": {
   "display_name": "Python 3",
   "language": "python",
   "name": "python3"
  },
  "language_info": {
   "codemirror_mode": {
    "name": "ipython",
    "version": 3
   },
   "file_extension": ".py",
   "mimetype": "text/x-python",
   "name": "python",
   "nbconvert_exporter": "python",
   "pygments_lexer": "ipython3",
   "version": "3.13.3"
  }
 },
 "nbformat": 4,
 "nbformat_minor": 5
}
