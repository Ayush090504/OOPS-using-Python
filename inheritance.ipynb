{
 "cells": [
  {
   "cell_type": "markdown",
   "id": "4b062d97",
   "metadata": {},
   "source": [
    "#Inheritance in OOPS\n",
    "Inheritance is the basic concept of OOPS that allow a class to inherit attributes and methods from another class."
   ]
  },
  {
   "cell_type": "code",
   "execution_count": 1,
   "id": "f14ebc84",
   "metadata": {},
   "outputs": [],
   "source": [
    "#Inheritance works by accessing the parameters or attributes defined in the parent class by all the children classes"
   ]
  },
  {
   "cell_type": "code",
   "execution_count": 5,
   "id": "aab961a9",
   "metadata": {},
   "outputs": [],
   "source": [
    "class Car:\n",
    "    def __init__(self,windows,doors,color,engine):\n",
    "        self.windows=windows\n",
    "        self.doors=doors\n",
    "        self.color=color\n",
    "        self.engine=engine\n",
    "\n",
    "    def car_color(self):\n",
    "        print(f\"{self.color} is the color of the car\")\n",
    "\n",
    "class Audi(Car):\n",
    "    def __init__(self, windows, doors, color, engine, is_selfdriving):\n",
    "        super().__init__(windows, doors, color, engine) #This takes the values from the super class Car using super\n",
    "        #__init__ here access the constructor of the super class\n",
    "        self.is_selfdriving=is_selfdriving\n",
    "        super().car_color()\n",
    "\n",
    "    def selfdriving(self):\n",
    "        print(f\"Car is the self driving: {self.is_selfdriving}\")"
   ]
  },
  {
   "cell_type": "code",
   "execution_count": 6,
   "id": "b09e0e7e",
   "metadata": {},
   "outputs": [
    {
     "name": "stdout",
     "output_type": "stream",
     "text": [
      "Black is the color of the car\n",
      "Car is the self driving: True\n"
     ]
    }
   ],
   "source": [
    "rolls_royce=Audi(8,4,\"Black\",\"Petrol\",True)\n",
    "\n",
    "rolls_royce.selfdriving()"
   ]
  },
  {
   "cell_type": "code",
   "execution_count": null,
   "id": "f48bd9a2",
   "metadata": {},
   "outputs": [],
   "source": []
  }
 ],
 "metadata": {
  "kernelspec": {
   "display_name": "Python 3",
   "language": "python",
   "name": "python3"
  },
  "language_info": {
   "codemirror_mode": {
    "name": "ipython",
    "version": 3
   },
   "file_extension": ".py",
   "mimetype": "text/x-python",
   "name": "python",
   "nbconvert_exporter": "python",
   "pygments_lexer": "ipython3",
   "version": "3.13.3"
  }
 },
 "nbformat": 4,
 "nbformat_minor": 5
}
